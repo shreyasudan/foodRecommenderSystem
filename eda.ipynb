{
 "cells": [
  {
   "cell_type": "code",
   "execution_count": null,
   "id": "4d55f36d",
   "metadata": {},
   "outputs": [],
   "source": [
    "import pandas as pd\n",
    "import numpy as np\n",
    "import gzip\n",
    "from collections import defaultdict\n",
    "import math\n",
    "import scipy.optimize\n",
    "from sklearn import svm\n",
    "import string\n",
    "import random\n",
    "import string\n",
    "from sklearn import linear_model\n",
    "import os\n",
    "import matplotlib.pyplot as plt"
   ]
  },
  {
   "cell_type": "markdown",
   "id": "31350b7e",
   "metadata": {},
   "source": [
    "# The Data"
   ]
  },
  {
   "cell_type": "code",
   "execution_count": null,
   "id": "24e4d931",
   "metadata": {},
   "outputs": [],
   "source": [
    "# load the data\n",
    "def readFiles(file):\n",
    "    file_path = os.path.join('data', file)\n",
    "    return pd.read_csv(file_path, compression='gzip')\n",
    "\n",
    "recipes = readFiles('RAW_recipes.csv.gz')\n",
    "interactions = readFiles('RAW_interactions.csv.gz')"
   ]
  },
  {
   "cell_type": "code",
   "execution_count": null,
   "id": "c7304502",
   "metadata": {},
   "outputs": [],
   "source": [
    "recipes.head()"
   ]
  },
  {
   "cell_type": "markdown",
   "id": "6c54df13",
   "metadata": {},
   "source": [
    "# EDA"
   ]
  },
  {
   "cell_type": "markdown",
   "id": "7e643722",
   "metadata": {},
   "source": [
    "`recipes` data"
   ]
  },
  {
   "cell_type": "code",
   "execution_count": null,
   "id": "9c8cdb46",
   "metadata": {},
   "outputs": [],
   "source": [
    "# Display basic information\n",
    "print(\"Recipes Data Info:\")\n",
    "print(recipes.info())"
   ]
  },
  {
   "cell_type": "code",
   "execution_count": null,
   "id": "6326b6c0",
   "metadata": {},
   "outputs": [],
   "source": [
    "print(recipes.describe().to_markdown())"
   ]
  },
  {
   "cell_type": "markdown",
   "id": "980e0ea4",
   "metadata": {},
   "source": [
    "First descriptive statistics of `recipes`\n",
    "\n",
    "\n",
    "|       |     id |          minutes |   contributor_id |      n_steps |   n_ingredients |\n",
    "|:------|-------:|-----------------:|-----------------:|-------------:|----------------:|\n",
    "| count | 231637 | 231637           | 231637           | 231637       |    231637       |\n",
    "| mean  | 222015 |   9398.55        |      5.53489e+06 |      9.7655  |         9.05115 |\n",
    "| std   | 141207 |      4.46196e+06 |      9.97914e+07 |      5.99513 |         3.7348  |\n",
    "| min   |     38 |      0           |     27           |      0       |         1       |\n",
    "| 25%   |  99944 |     20           |  56905           |      6       |         6       |\n",
    "| 50%   | 207249 |     40           | 173614           |      9       |         9       |\n",
    "| 75%   | 333816 |     65           | 398275           |     12       |        11       |\n",
    "| max   | 537716 |      2.14748e+09 |      2.00229e+09 |    145       |        43       |"
   ]
  },
  {
   "cell_type": "code",
   "execution_count": null,
   "id": "a3e3b23e",
   "metadata": {},
   "outputs": [],
   "source": [
    "# Check for missing values\n",
    "print(\"Missing Values in Recipes Data:\")\n",
    "print(recipes.isnull().sum())"
   ]
  },
  {
   "cell_type": "code",
   "execution_count": null,
   "id": "24359417",
   "metadata": {},
   "outputs": [],
   "source": [
    "# Unique values\n",
    "print(\"Unique Values in Key Columns - Recipes:\")\n",
    "print(recipes.nunique())"
   ]
  },
  {
   "cell_type": "code",
   "execution_count": null,
   "id": "f279b8f7",
   "metadata": {},
   "outputs": [],
   "source": [
    "# Plot distributions of numeric columns in recipes\n",
    "recipes.hist(figsize=(12, 8), bins=20)\n",
    "plt.suptitle(\"Distribution of Numerical Features in Recipes Data\")\n",
    "plt.savefig('recipesNumerical.png', dpi=300)\n",
    "plt.show()"
   ]
  },
  {
   "cell_type": "code",
   "execution_count": null,
   "id": "e1541cc2",
   "metadata": {},
   "outputs": [],
   "source": [
    "# Most common ingredients:\n",
    "print(\"Most Common Ingredients:\")\n",
    "print(recipes['ingredients'].value_counts().head(10))"
   ]
  },
  {
   "cell_type": "markdown",
   "id": "fe84764d",
   "metadata": {},
   "source": [
    "`interactions` data"
   ]
  },
  {
   "cell_type": "code",
   "execution_count": null,
   "id": "ef33aeb5",
   "metadata": {},
   "outputs": [],
   "source": [
    "interactions.head()"
   ]
  },
  {
   "cell_type": "code",
   "execution_count": null,
   "id": "87566172",
   "metadata": {},
   "outputs": [],
   "source": [
    "print(interactions.describe().to_markdown())"
   ]
  },
  {
   "cell_type": "code",
   "execution_count": null,
   "id": "2470e99a",
   "metadata": {},
   "outputs": [],
   "source": [
    "print(\"\\nInteractions Data Info:\")\n",
    "print(interactions.info())"
   ]
  },
  {
   "cell_type": "code",
   "execution_count": null,
   "id": "4865c7f8",
   "metadata": {},
   "outputs": [],
   "source": [
    "# Check for missing values\n",
    "print(\"\\nMissing Values in Interactions Data:\")\n",
    "print(interactions.isnull().sum())"
   ]
  },
  {
   "cell_type": "code",
   "execution_count": null,
   "id": "73fe3c10",
   "metadata": {},
   "outputs": [],
   "source": [
    "# Unique values\n",
    "print(\"\\nUnique Values in Key Columns - Interactions:\")\n",
    "print(interactions.nunique())"
   ]
  },
  {
   "cell_type": "code",
   "execution_count": null,
   "id": "68829af7",
   "metadata": {},
   "outputs": [],
   "source": [
    "# Plot distributions of numeric columns in interactions\n",
    "interactions.hist(figsize=(12, 8), bins=20)\n",
    "plt.suptitle(\"Distribution of Numerical Features in Interactions Data\")\n",
    "plt.savefig('interactionsNumerical.png', dpi=300)\n",
    "plt.show()"
   ]
  },
  {
   "cell_type": "code",
   "execution_count": null,
   "id": "d872897d",
   "metadata": {},
   "outputs": [],
   "source": [
    "# Distribution of ratings\n",
    "print(\"Rating Distribution:\")\n",
    "print(interactions['rating'].value_counts())\n",
    "interactions['rating'].value_counts().plot(kind='bar')\n",
    "plt.title(\"Rating Distribution\")\n",
    "plt.savefig('ratingDistribution.png', dpi=300)\n",
    "plt.show()"
   ]
  }
 ],
 "metadata": {
  "kernelspec": {
   "display_name": "Python 3 (ipykernel)",
   "language": "python",
   "name": "python3"
  },
  "language_info": {
   "codemirror_mode": {
    "name": "ipython",
    "version": 3
   },
   "file_extension": ".py",
   "mimetype": "text/x-python",
   "name": "python",
   "nbconvert_exporter": "python",
   "pygments_lexer": "ipython3",
   "version": "3.10.9"
  }
 },
 "nbformat": 4,
 "nbformat_minor": 5
}
